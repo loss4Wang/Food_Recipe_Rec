{
 "cells": [
  {
   "cell_type": "code",
   "execution_count": 12,
   "metadata": {},
   "outputs": [],
   "source": [
    "import torch\n",
    "import clip\n",
    "import requests\n",
    "import pandas as pd\n",
    "import numpy as np\n",
    "from PIL import Image\n",
    "from transformers import CLIPProcessor, CLIPModel\n",
    "from sklearn.metrics import accuracy_score, f1_score, precision_score,recall_score\n",
    "from torch.utils.data import DataLoader,Dataset\n",
    "from tqdm import tqdm\n",
    "tqdm.pandas()"
   ]
  },
  {
   "cell_type": "markdown",
   "metadata": {},
   "source": [
    "# CLIP Zero-shot"
   ]
  },
  {
   "cell_type": "code",
   "execution_count": null,
   "metadata": {},
   "outputs": [],
   "source": [
    "device = \"cuda:7\" if torch.cuda.is_available() else \"cpu\"\n",
    "model, preprocess = clip.load(\"ViT-B/32\", device=device)"
   ]
  },
  {
   "cell_type": "markdown",
   "metadata": {},
   "source": [
    "## Get label list"
   ]
  },
  {
   "cell_type": "code",
   "execution_count": 13,
   "metadata": {},
   "outputs": [
    {
     "name": "stdout",
     "output_type": "stream",
     "text": [
      "(60485, 10)\n"
     ]
    }
   ],
   "source": [
    "# Get the label list for the dataset\n",
    "all_data = \"/local/xiaowang/Ingredient_Rec/1mtest_all_440_labels.json\"\n",
    "all_df = pd.read_json(all_data)\n",
    "print(all_df.shape) # (60485, 10)\n",
    "label_list = all_df[\"cleaned_ingredients\"].explode().unique() # length 44"
   ]
  },
  {
   "cell_type": "markdown",
   "metadata": {},
   "source": [
    "## Change unique key"
   ]
  },
  {
   "cell_type": "code",
   "execution_count": 14,
   "metadata": {},
   "outputs": [
    {
     "name": "stdout",
     "output_type": "stream",
     "text": [
      "(6048, 10)\n",
      "(13584, 10)\n"
     ]
    },
    {
     "data": {
      "text/html": [
       "<div>\n",
       "<style scoped>\n",
       "    .dataframe tbody tr th:only-of-type {\n",
       "        vertical-align: middle;\n",
       "    }\n",
       "\n",
       "    .dataframe tbody tr th {\n",
       "        vertical-align: top;\n",
       "    }\n",
       "\n",
       "    .dataframe thead th {\n",
       "        text-align: right;\n",
       "    }\n",
       "</style>\n",
       "<table border=\"1\" class=\"dataframe\">\n",
       "  <thead>\n",
       "    <tr style=\"text-align: right;\">\n",
       "      <th></th>\n",
       "      <th>id</th>\n",
       "      <th>images</th>\n",
       "      <th>image_file_name_ls</th>\n",
       "      <th>ingredients</th>\n",
       "      <th>url</th>\n",
       "      <th>partition</th>\n",
       "      <th>title</th>\n",
       "      <th>instructions</th>\n",
       "      <th>extracted_ingredients</th>\n",
       "      <th>cleaned_ingredients</th>\n",
       "    </tr>\n",
       "  </thead>\n",
       "  <tbody>\n",
       "    <tr>\n",
       "      <th>29552</th>\n",
       "      <td>7cd5228ac1</td>\n",
       "      <td>[{'id': '877a0ba43d.jpg', 'url': 'https://img-...</td>\n",
       "      <td>877a0ba43d.jpg</td>\n",
       "      <td>[{'text': '1 1/2 sleeves saltines'}, {'text': ...</td>\n",
       "      <td>https://cookpad.com/us/recipes/336742-lemon-be...</td>\n",
       "      <td>test</td>\n",
       "      <td>Lemon Beach Pie</td>\n",
       "      <td>[{'text': 'Crush or process crackers until fin...</td>\n",
       "      <td>[saltin, butter, sugar, condens milk, egg yolk...</td>\n",
       "      <td>[butter, sugar, milk, egg, yolk, lemon, cream,...</td>\n",
       "    </tr>\n",
       "    <tr>\n",
       "      <th>479</th>\n",
       "      <td>0226b5df5f</td>\n",
       "      <td>[{'id': '0e3d44f3c6.jpg', 'url': 'http://tasty...</td>\n",
       "      <td>0e3d44f3c6.jpg</td>\n",
       "      <td>[{'text': '3 whole Ripe Bananas, Crushed'}, {'...</td>\n",
       "      <td>http://tastykitchen.com/recipes/breads/banana-...</td>\n",
       "      <td>test</td>\n",
       "      <td>Banana Bread by Vicki</td>\n",
       "      <td>[{'text': 'Preheat oven to 275 degrees F. Mix ...</td>\n",
       "      <td>[ripe banana, butter, margarin, sugar, egg, fl...</td>\n",
       "      <td>[banana, butter, sugar, egg, flour, powder, so...</td>\n",
       "    </tr>\n",
       "  </tbody>\n",
       "</table>\n",
       "</div>"
      ],
      "text/plain": [
       "               id                                             images  \\\n",
       "29552  7cd5228ac1  [{'id': '877a0ba43d.jpg', 'url': 'https://img-...   \n",
       "479    0226b5df5f  [{'id': '0e3d44f3c6.jpg', 'url': 'http://tasty...   \n",
       "\n",
       "      image_file_name_ls                                        ingredients  \\\n",
       "29552     877a0ba43d.jpg  [{'text': '1 1/2 sleeves saltines'}, {'text': ...   \n",
       "479       0e3d44f3c6.jpg  [{'text': '3 whole Ripe Bananas, Crushed'}, {'...   \n",
       "\n",
       "                                                     url partition  \\\n",
       "29552  https://cookpad.com/us/recipes/336742-lemon-be...      test   \n",
       "479    http://tastykitchen.com/recipes/breads/banana-...      test   \n",
       "\n",
       "                       title  \\\n",
       "29552        Lemon Beach Pie   \n",
       "479    Banana Bread by Vicki   \n",
       "\n",
       "                                            instructions  \\\n",
       "29552  [{'text': 'Crush or process crackers until fin...   \n",
       "479    [{'text': 'Preheat oven to 275 degrees F. Mix ...   \n",
       "\n",
       "                                   extracted_ingredients  \\\n",
       "29552  [saltin, butter, sugar, condens milk, egg yolk...   \n",
       "479    [ripe banana, butter, margarin, sugar, egg, fl...   \n",
       "\n",
       "                                     cleaned_ingredients  \n",
       "29552  [butter, sugar, milk, egg, yolk, lemon, cream,...  \n",
       "479    [banana, butter, sugar, egg, flour, powder, so...  "
      ]
     },
     "execution_count": 14,
     "metadata": {},
     "output_type": "execute_result"
    }
   ],
   "source": [
    "# define unique key as image_file_name\n",
    "test_data = \"/local/xiaowang/Ingredient_Rec/Dataset/1mtest_test_440_labels.json\"\n",
    "test_df = pd.read_json(test_data)\n",
    "print(test_df.shape) #(6048, 10)\n",
    "\n",
    "test_exploded_df = test_df.explode(\"image_file_name_ls\")\n",
    "print(test_exploded_df.shape) # (13584, 10)\n",
    "test_exploded_df.head(2)"
   ]
  },
  {
   "cell_type": "markdown",
   "metadata": {},
   "source": [
    "## Image and Ingredients Demo"
   ]
  },
  {
   "cell_type": "code",
   "execution_count": 4,
   "metadata": {},
   "outputs": [
    {
     "name": "stdout",
     "output_type": "stream",
     "text": [
      "/local/xiaowang/Ingredient_Rec/1m_test/8/7/7/a/877a0ba43d.jpg\n"
     ]
    }
   ],
   "source": [
    "# 1. get image file path\n",
    "image_folder = '/local/xiaowang/Ingredient_Rec/1m_test'\n",
    "sample_image_file_name = test_exploded_df.iloc[0]['image_file_name_ls']\n",
    "\n",
    "\n",
    "def image_file_name_to_path(dataset_dir, image_file_name):\n",
    "    \"\"\"Convert image file name to full path\"\"\"\n",
    "    sub_dir_path = \"\"\n",
    "    for sub_dir in range(4):\n",
    "        sub_dir_path += image_file_name[sub_dir] + \"/\"\n",
    "    image_path = dataset_dir + \"/\" + sub_dir_path + image_file_name\n",
    "    return image_path\n",
    "\n",
    "sample_im_path = image_file_name_to_path(image_folder, sample_image_file_name)\n",
    "print(sample_im_path)"
   ]
  },
  {
   "cell_type": "code",
   "execution_count": null,
   "metadata": {},
   "outputs": [],
   "source": [
    "print(test_exploded_df.iloc[0]['cleaned_ingredients'])\n",
    "Image.open(sample_im_path)"
   ]
  },
  {
   "cell_type": "markdown",
   "metadata": {},
   "source": [
    "## Evaluation Utils"
   ]
  },
  {
   "cell_type": "code",
   "execution_count": 18,
   "metadata": {},
   "outputs": [],
   "source": [
    "def get_pred_ohe(pred_idx_ls: list, ingredient_list: list) -> np.ndarray:\n",
    "    \"\"\"\n",
    "    Get the one-hot encoding of the predicted ingredients\n",
    "    \"\"\"\n",
    "    ingredient_set = set(ingredient_list)\n",
    "    ingredient_set_indices = {} \n",
    "    for idx, label in enumerate(ingredient_set):\n",
    "        ingredient_set_indices[label] = idx\n",
    "    temp = [0] * len(ingredient_set)\n",
    "    pred_ingre_ls = [ingredient_list[idx] for idx in pred_idx_ls]\n",
    "    for pred in pred_ingre_ls:\n",
    "        idx = ingredient_set_indices.get(pred, -1)\n",
    "        if idx != -1:\n",
    "            temp[idx] = 1\n",
    "    ohe = np.array(temp)\n",
    "    return ohe\n",
    "\n",
    "def get_true_ohe(true_ingre_ls: list, ingredient_list: list) -> np.ndarray:\n",
    "    \"\"\"\n",
    "    Get the one-hot encoding of the true ingredients\n",
    "    \"\"\"\n",
    "    ingredient_set = set(ingredient_list)\n",
    "    ingredient_set_indices = {} \n",
    "    for idx, label in enumerate(ingredient_set):\n",
    "        ingredient_set_indices[label] = idx\n",
    "    temp = [0] * len(ingredient_set)\n",
    "    for ingre in true_ingre_ls:\n",
    "        idx = ingredient_set_indices.get(ingre, -1)\n",
    "        if idx != -1:\n",
    "            temp[idx] = 1\n",
    "    ohe = np.array(temp)\n",
    "    return ohe\n",
    "\n",
    "def get_metrics(ingredient_ls, top_k_idx_ls, dataset):\n",
    "    \"\"\"\n",
    "    Get the metrics for the accusation prediction\n",
    "    \"\"\"\n",
    "    # ohe for pred dataset\n",
    "    metrics_dict = {}\n",
    "    pred_data_ohe = []\n",
    "    for top_k_idx in top_k_idx_ls:\n",
    "        pred_ohe = get_pred_ohe(top_k_idx, ingredient_ls)\n",
    "        pred_data_ohe.append(pred_ohe)\n",
    "    pred_data_ohe = np.array(pred_data_ohe)\n",
    "\n",
    "    # ohe for true dataset\n",
    "    true_data_ohe = []\n",
    "    for i in range(len(test_exploded_df)):\n",
    "        true_ohe = get_true_ohe(test_exploded_df.iloc[i]['cleaned_ingredients'], label_list)\n",
    "        true_data_ohe.append(true_ohe)\n",
    "    true_data_ohe = np.array(true_data_ohe)\n",
    "\n",
    "    # get the metrics \n",
    "    acc = accuracy_score(true_data_ohe, pred_data_ohe)\n",
    "    mi_f1 = f1_score(true_data_ohe, pred_data_ohe, average='micro')\n",
    "    ma_f1 = f1_score(true_data_ohe, pred_data_ohe, average='macro')\n",
    "    mi_precision = precision_score(true_data_ohe, pred_data_ohe, average='micro')\n",
    "    ma_precision = precision_score(true_data_ohe, pred_data_ohe, average='macro')\n",
    "    mi_recall = recall_score(true_data_ohe, pred_data_ohe, average='micro')\n",
    "    ma_recall = recall_score(true_data_ohe, pred_data_ohe, average='macro')\n",
    "\n",
    "    metrics_dict = {\n",
    "        'accuracy': acc, \n",
    "        'micro_f1': mi_f1, \n",
    "        'macro_f1': ma_f1, \n",
    "        'micro_precision': mi_precision, \n",
    "        'macro_precision': ma_precision, \n",
    "        'micro_recall': mi_recall, \n",
    "        'macro_recall': ma_recall\n",
    "        }\n",
    "    return metrics_dict\n"
   ]
  },
  {
   "cell_type": "markdown",
   "metadata": {},
   "source": [
    "## Dataloader"
   ]
  },
  {
   "cell_type": "code",
   "execution_count": null,
   "metadata": {},
   "outputs": [],
   "source": [
    "import torchvision\n",
    "from torchvision import datasets\n",
    "from torchvision.transforms import ToTensor\n",
    "\n",
    "class IngredientRecgDataset(Dataset):\n",
    "    def __init__(self, df, all_ingredients_ls, transform=None):\n",
    "        self.data = df\n",
    "        self.all_ingredients_ls = all_ingredients_ls\n",
    "        self.transform = transform\n",
    "\n",
    "    def __len__(self):\n",
    "        return len(self.data)\n",
    "\n",
    "    def __getitem__(self, idx):\n",
    "        row = self.data.iloc[idx]\n",
    "\n",
    "        img_file = image_file_name_to_path(image_folder, row['image_file_name_ls'])\n",
    "        image = Image.open(img_file)\n",
    "        image = preprocess(image).unsqueeze(0)\n",
    "\n",
    "        true_ingredient_ls = row['cleaned_ingredients']\n",
    "        true_ingredient_ohe = get_true_ohe(true_ingredient_ls, self.all_ingredients_ls)\n",
    "\n",
    "        if self.transform:\n",
    "            image = self.transform(image)\n",
    "\n",
    "        return image, true_ingredient_ohe\n",
    "\n",
    "batch_size = 16\n",
    "\n",
    "test_dataset = IngredientRecgDataset(test_exploded_df, label_list)\n",
    "test_loader = DataLoader(test_dataset, batch_size=batch_size, shuffle=False)\n"
   ]
  },
  {
   "cell_type": "markdown",
   "metadata": {},
   "source": [
    "## Zero-shot Inference"
   ]
  },
  {
   "cell_type": "code",
   "execution_count": null,
   "metadata": {},
   "outputs": [],
   "source": [
    "def labels_to_prompts(labels: list[str]) -> list[str]:\n",
    "    prompt = \"Recipe contains ingredient: {}\"\n",
    "    return [prompt.format(label) for label in labels]\n",
    "\n",
    "\n",
    "clip_score_ls = []\n",
    "top_k_idx_ls = []\n",
    "for imgs, true_ingredient_ls in tqdm(test_loader):\n",
    "    imgs = [img.to(device) for img in imgs]\n",
    "    imgs = torch.cat(imgs, dim = 0)\n",
    "    prompts = labels_to_prompts(label_list)\n",
    "    text = clip.tokenize(prompts).to(device)\n",
    "    with torch.no_grad():\n",
    "        image_features = model.encode_image(imgs) # [batch_size, 512]\n",
    "        image_features = image_features.unsqueeze(1) # [batch_size, 1, 512]\n",
    "        text_features = model.encode_text(text) # [label_list, 512]\n",
    "        cos = torch.nn.CosineSimilarity(dim=-1, eps=1e-6)\n",
    "        clip_scores = cos(image_features, text_features).cpu().numpy() # [batch_size, label_list]\n",
    "        clip_score_ls.append(clip_scores)\n",
    "        top_k_idx_ls.extend([clip_score.argsort()[-10:] for clip_score in clip_scores]) # k = 10"
   ]
  },
  {
   "cell_type": "markdown",
   "metadata": {},
   "source": [
    "## Save / Read Results"
   ]
  },
  {
   "cell_type": "code",
   "execution_count": 1,
   "metadata": {},
   "outputs": [],
   "source": [
    "import pickle\n",
    "\n",
    "# with open('top_k_idx_ls.pkl', 'wb') as f:\n",
    "#     pickle.dump(top_k_idx_ls, f)\n",
    "# print(len(top_k_idx_ls))\n",
    "\n",
    "# with open('clip_score_ls.pkl', 'rb') as f:\n",
    "#     pickle.dump(clip_score_ls, f)\n",
    "\n",
    "\n",
    "# open top_k_idx_ls.pkl\n",
    "with open('top_k_idx_ls.pkl', 'rb') as f:\n",
    "    top_k_idx_ls = pickle.load(f)\n",
    "\n",
    "# open clip_score_ls.pkl\n",
    "with open('clip_score_ls.pkl', 'rb') as f:\n",
    "    clip_score_ls = pickle.load(f)"
   ]
  },
  {
   "cell_type": "code",
   "execution_count": 3,
   "metadata": {},
   "outputs": [],
   "source": [
    "clip_score_np_ls = [clip_score.cpu().numpy() for clip_score in clip_score_ls]"
   ]
  },
  {
   "cell_type": "code",
   "execution_count": 10,
   "metadata": {},
   "outputs": [],
   "source": [
    "top_k_np_idx_ls = [clip_score.argsort()[-10:] for batch_clip_score in clip_score_np_ls for clip_score in batch_clip_score]"
   ]
  },
  {
   "cell_type": "code",
   "execution_count": 11,
   "metadata": {},
   "outputs": [
    {
     "data": {
      "text/plain": [
       "13584"
      ]
     },
     "execution_count": 11,
     "metadata": {},
     "output_type": "execute_result"
    }
   ],
   "source": [
    "len(top_k_np_idx_ls)"
   ]
  },
  {
   "cell_type": "markdown",
   "metadata": {},
   "source": [
    "## Evaluation"
   ]
  },
  {
   "cell_type": "code",
   "execution_count": 32,
   "metadata": {},
   "outputs": [
    {
     "name": "stderr",
     "output_type": "stream",
     "text": [
      "/local/xiaowang/anaconda3/envs/ingredient_rec/lib/python3.9/site-packages/sklearn/metrics/_classification.py:1509: UndefinedMetricWarning: Precision is ill-defined and being set to 0.0 in labels with no predicted samples. Use `zero_division` parameter to control this behavior.\n",
      "  _warn_prf(average, modifier, f\"{metric.capitalize()} is\", len(result))\n",
      "/local/xiaowang/anaconda3/envs/ingredient_rec/lib/python3.9/site-packages/sklearn/metrics/_classification.py:1509: UndefinedMetricWarning: Recall is ill-defined and being set to 0.0 in labels with no true samples. Use `zero_division` parameter to control this behavior.\n",
      "  _warn_prf(average, modifier, f\"{metric.capitalize()} is\", len(result))\n"
     ]
    }
   ],
   "source": [
    "zs_results = get_metrics(label_list, top_k_np_idx_ls, test_exploded_df)"
   ]
  },
  {
   "cell_type": "code",
   "execution_count": 33,
   "metadata": {},
   "outputs": [
    {
     "data": {
      "text/plain": [
       "{'accuracy': 0.0,\n",
       " 'micro_f1': 0.05592504890353135,\n",
       " 'macro_f1': 0.04997815061493393,\n",
       " 'micro_precision': 0.04998527679623086,\n",
       " 'macro_precision': 0.08102703958913474,\n",
       " 'micro_recall': 0.06346684114595504,\n",
       " 'macro_recall': 0.17494958233718533}"
      ]
     },
     "execution_count": 33,
     "metadata": {},
     "output_type": "execute_result"
    }
   ],
   "source": [
    "zs_results"
   ]
  }
 ],
 "metadata": {
  "kernelspec": {
   "display_name": "ingredient_rec",
   "language": "python",
   "name": "python3"
  },
  "language_info": {
   "codemirror_mode": {
    "name": "ipython",
    "version": 3
   },
   "file_extension": ".py",
   "mimetype": "text/x-python",
   "name": "python",
   "nbconvert_exporter": "python",
   "pygments_lexer": "ipython3",
   "version": "3.10.14"
  }
 },
 "nbformat": 4,
 "nbformat_minor": 2
}
