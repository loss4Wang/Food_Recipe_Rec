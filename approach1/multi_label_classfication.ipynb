{
 "cells": [
  {
   "cell_type": "code",
   "execution_count": 1,
   "metadata": {},
   "outputs": [],
   "source": [
    "import pandas as pd\n",
    "from tqdm import tqdm\n",
    "tqdm.pandas()\n",
    "\n",
    "from PIL import Image\n",
    "import requests\n",
    "from transformers import AutoProcessor, CLIPVisionModel\n",
    "\n",
    "import sys\n",
    "sys.path.append('/local/xiaowang/food_ingredient/')\n",
    "from utils.utils import get_img_path, set_seeds\n",
    "\n",
    "import torch\n",
    "import torch.nn as nn\n",
    "import torch.nn.functional as F\n",
    "from torch.utils.data import Dataset\n",
    "from torch.utils.data import DataLoader\n",
    "from torch.optim import Adam\n",
    "\n",
    "device = \"cuda:6\"\n",
    "batch_size = 128\n",
    "set_seeds(42)\n",
    "img_dir = '/local/xiaowang/food_ingredient/1m_test'\n",
    "train_file = '/local/xiaowang/food_ingredient/Dataset_440_labels/train_set.json'\n",
    "test_file = '/local/xiaowang/food_ingredient/Dataset_440_labels/test_set.json'\n",
    "val_file = '/local/xiaowang/food_ingredient/Dataset_440_labels/val_set.json'\n",
    "\n",
    "train_df = pd.read_json(train_file, orient='records', lines=True)\n",
    "test_df = pd.read_json(test_file, orient='records', lines=True)\n",
    "val_df = pd.read_json(val_file, orient='records', lines=True)\n",
    "\n",
    "train_explode_df = train_df.explode('image_file_name_ls', ignore_index=True)\n",
    "test_explode_df = test_df.explode('image_file_name_ls', ignore_index=True)\n",
    "val_explode_df = val_df.explode('image_file_name_ls', ignore_index=True)"
   ]
  },
  {
   "cell_type": "code",
   "execution_count": 2,
   "metadata": {},
   "outputs": [
    {
     "name": "stderr",
     "output_type": "stream",
     "text": [
      "/local/xiaowang/miniconda3/envs/food_ingre/lib/python3.10/site-packages/torch/_utils.py:831: UserWarning: TypedStorage is deprecated. It will be removed in the future and UntypedStorage will be the only storage class. This should only matter to you if you are using storages directly.  To access UntypedStorage directly, use tensor.untyped_storage() instead of tensor.storage()\n",
      "  return self.fget.__get__(instance, owner)()\n"
     ]
    }
   ],
   "source": [
    "model = CLIPVisionModel.from_pretrained(\"openai/clip-vit-base-patch32\").to(device)\n",
    "processor = AutoProcessor.from_pretrained(\"openai/clip-vit-base-patch32\")\n",
    "\n",
    "model.eval()\n",
    "\n",
    "# freeze all layers for linear probe\n",
    "for param in model.parameters():\n",
    "    param.requires_grad = False"
   ]
  },
  {
   "cell_type": "code",
   "execution_count": 3,
   "metadata": {},
   "outputs": [
    {
     "data": {
      "text/html": [
       "<div>\n",
       "<style scoped>\n",
       "    .dataframe tbody tr th:only-of-type {\n",
       "        vertical-align: middle;\n",
       "    }\n",
       "\n",
       "    .dataframe tbody tr th {\n",
       "        vertical-align: top;\n",
       "    }\n",
       "\n",
       "    .dataframe thead th {\n",
       "        text-align: right;\n",
       "    }\n",
       "</style>\n",
       "<table border=\"1\" class=\"dataframe\">\n",
       "  <thead>\n",
       "    <tr style=\"text-align: right;\">\n",
       "      <th></th>\n",
       "      <th>id</th>\n",
       "      <th>images</th>\n",
       "      <th>image_file_name_ls</th>\n",
       "      <th>ingredients</th>\n",
       "      <th>url</th>\n",
       "      <th>partition</th>\n",
       "      <th>title</th>\n",
       "      <th>instructions</th>\n",
       "      <th>extracted_ingredients</th>\n",
       "      <th>cleaned_ingredients</th>\n",
       "      <th>generated_intro</th>\n",
       "    </tr>\n",
       "  </thead>\n",
       "  <tbody>\n",
       "    <tr>\n",
       "      <th>0</th>\n",
       "      <td>787347fc9b</td>\n",
       "      <td>[{'id': '589aa53634.jpg', 'url': 'http://img.s...</td>\n",
       "      <td>589aa53634.jpg</td>\n",
       "      <td>[{'text': '34 cup plain flour'}, {'text': '1 1...</td>\n",
       "      <td>http://www.food.com/recipe/anzac-biscuits-with...</td>\n",
       "      <td>test</td>\n",
       "      <td>Anzac Biscuits With Macadamias (Australian)</td>\n",
       "      <td>[{'text': 'Preheat oven to 160 degrees Celsius...</td>\n",
       "      <td>[plain flour, oat, white sugar, coconut, macad...</td>\n",
       "      <td>[oat, butter, coconut, syrup, macadamia, sugar...</td>\n",
       "      <td>Title: Turkey Meatballs and Pasta in Broth\\n\\n...</td>\n",
       "    </tr>\n",
       "    <tr>\n",
       "      <th>1</th>\n",
       "      <td>787347fc9b</td>\n",
       "      <td>[{'id': '589aa53634.jpg', 'url': 'http://img.s...</td>\n",
       "      <td>5ec5605334.jpg</td>\n",
       "      <td>[{'text': '34 cup plain flour'}, {'text': '1 1...</td>\n",
       "      <td>http://www.food.com/recipe/anzac-biscuits-with...</td>\n",
       "      <td>test</td>\n",
       "      <td>Anzac Biscuits With Macadamias (Australian)</td>\n",
       "      <td>[{'text': 'Preheat oven to 160 degrees Celsius...</td>\n",
       "      <td>[plain flour, oat, white sugar, coconut, macad...</td>\n",
       "      <td>[oat, butter, coconut, syrup, macadamia, sugar...</td>\n",
       "      <td>Title: Turkey Meatballs and Pasta in Broth\\n\\n...</td>\n",
       "    </tr>\n",
       "  </tbody>\n",
       "</table>\n",
       "</div>"
      ],
      "text/plain": [
       "           id                                             images  \\\n",
       "0  787347fc9b  [{'id': '589aa53634.jpg', 'url': 'http://img.s...   \n",
       "1  787347fc9b  [{'id': '589aa53634.jpg', 'url': 'http://img.s...   \n",
       "\n",
       "  image_file_name_ls                                        ingredients  \\\n",
       "0     589aa53634.jpg  [{'text': '34 cup plain flour'}, {'text': '1 1...   \n",
       "1     5ec5605334.jpg  [{'text': '34 cup plain flour'}, {'text': '1 1...   \n",
       "\n",
       "                                                 url partition  \\\n",
       "0  http://www.food.com/recipe/anzac-biscuits-with...      test   \n",
       "1  http://www.food.com/recipe/anzac-biscuits-with...      test   \n",
       "\n",
       "                                         title  \\\n",
       "0  Anzac Biscuits With Macadamias (Australian)   \n",
       "1  Anzac Biscuits With Macadamias (Australian)   \n",
       "\n",
       "                                        instructions  \\\n",
       "0  [{'text': 'Preheat oven to 160 degrees Celsius...   \n",
       "1  [{'text': 'Preheat oven to 160 degrees Celsius...   \n",
       "\n",
       "                               extracted_ingredients  \\\n",
       "0  [plain flour, oat, white sugar, coconut, macad...   \n",
       "1  [plain flour, oat, white sugar, coconut, macad...   \n",
       "\n",
       "                                 cleaned_ingredients  \\\n",
       "0  [oat, butter, coconut, syrup, macadamia, sugar...   \n",
       "1  [oat, butter, coconut, syrup, macadamia, sugar...   \n",
       "\n",
       "                                     generated_intro  \n",
       "0  Title: Turkey Meatballs and Pasta in Broth\\n\\n...  \n",
       "1  Title: Turkey Meatballs and Pasta in Broth\\n\\n...  "
      ]
     },
     "execution_count": 3,
     "metadata": {},
     "output_type": "execute_result"
    }
   ],
   "source": [
    "train_explode_df.head(2)"
   ]
  },
  {
   "cell_type": "code",
   "execution_count": 4,
   "metadata": {},
   "outputs": [
    {
     "name": "stdout",
     "output_type": "stream",
     "text": [
      "440\n"
     ]
    }
   ],
   "source": [
    "# define labels\n",
    "label_list = train_explode_df.explode('cleaned_ingredients').cleaned_ingredients.unique().tolist()\n",
    "label_list += test_explode_df.explode('cleaned_ingredients').cleaned_ingredients.unique().tolist()\n",
    "label_list += val_explode_df.explode('cleaned_ingredients').cleaned_ingredients.unique().tolist()\n",
    "label_list = list(set(label_list))\n",
    "num_classes = len(label_list)\n",
    "print(num_classes)\n",
    "\n",
    "label2idx = {label: idx for idx, label in enumerate(label_list)}\n",
    "idx2label = {idx: label for idx, label in enumerate(label_list)}"
   ]
  },
  {
   "cell_type": "code",
   "execution_count": 5,
   "metadata": {},
   "outputs": [],
   "source": [
    "classifier = torch.nn.Linear(768, num_classes).to(device)"
   ]
  },
  {
   "cell_type": "code",
   "execution_count": 6,
   "metadata": {},
   "outputs": [
    {
     "name": "stdout",
     "output_type": "stream",
     "text": [
      "torch.Size([107156, 768])\n",
      "torch.Size([13034, 768])\n",
      "torch.Size([13584, 768])\n"
     ]
    }
   ],
   "source": [
    "# read the pooler_output from disk\n",
    "train_pooler_output = torch.load('train_pooler_output.pt').to(device).squeeze(1)\n",
    "val_pooler_output = torch.load('val_pooler_output.pt').to(device).squeeze(1)\n",
    "test_pooler_output = torch.load('test_pooler_output.pt').to(device).squeeze(1)\n",
    "\n",
    "print(train_pooler_output.shape)\n",
    "print(val_pooler_output.shape)\n",
    "print(test_pooler_output.shape)"
   ]
  },
  {
   "cell_type": "code",
   "execution_count": 7,
   "metadata": {},
   "outputs": [],
   "source": [
    "labels = train_explode_df.iloc[0]['cleaned_ingredients']\n",
    "class_idx = [label2idx[label] for label in labels]\n",
    "ohe = F.one_hot(torch.tensor(class_idx), num_classes=num_classes).sum(0).float()"
   ]
  },
  {
   "cell_type": "code",
   "execution_count": 8,
   "metadata": {},
   "outputs": [],
   "source": [
    "# define dataset and dataloader\n",
    "class FoodLinearProbeDataset(Dataset):\n",
    "    def __init__(self, df, img_dir, device):\n",
    "        self.df = df\n",
    "        self.img_dir = img_dir\n",
    "        self.device = device\n",
    "\n",
    "    def __len__(self):\n",
    "        return len(self.df)\n",
    "\n",
    "    def __getitem__(self, idx):\n",
    "\n",
    "        labels = self.df.iloc[idx]['cleaned_ingredients']\n",
    "        class_idx = [label2idx[label] for label in labels]\n",
    "        ohe = F.one_hot(torch.tensor(class_idx), num_classes=num_classes).sum(0).float().to(device)\n",
    "\n",
    "        return idx,ohe "
   ]
  },
  {
   "cell_type": "code",
   "execution_count": 9,
   "metadata": {},
   "outputs": [],
   "source": [
    "loss_fn = nn.BCEWithLogitsLoss()\n",
    "optimizer = Adam(classifier.parameters(), lr=1e-3)\n",
    "\n",
    "train_dataset = FoodLinearProbeDataset(train_explode_df, img_dir, device)\n",
    "val_dataset = FoodLinearProbeDataset(val_explode_df, img_dir, device)\n",
    "test_dataset = FoodLinearProbeDataset(test_explode_df, img_dir, device)\n",
    "\n",
    "train_loader = DataLoader(train_dataset, batch_size=2, shuffle=True)\n",
    "val_loader = DataLoader(val_dataset, batch_size=batch_size, shuffle=False)\n",
    "test_loader = DataLoader(test_dataset, batch_size=batch_size, shuffle=False)\n",
    "\n"
   ]
  },
  {
   "cell_type": "code",
   "execution_count": 10,
   "metadata": {},
   "outputs": [
    {
     "name": "stdout",
     "output_type": "stream",
     "text": [
      "tensor([65101, 49399])\n",
      "torch.Size([2, 440])\n"
     ]
    }
   ],
   "source": [
    "# test the dataloader\n",
    "for idx, ohe in train_loader:\n",
    "    print(idx)\n",
    "    print(ohe.shape)\n",
    "    break"
   ]
  },
  {
   "cell_type": "code",
   "execution_count": 12,
   "metadata": {},
   "outputs": [
    {
     "data": {
      "text/plain": [
       "torch.Size([2, 440])"
      ]
     },
     "execution_count": 12,
     "metadata": {},
     "output_type": "execute_result"
    }
   ],
   "source": [
    "pred = classifier(train_pooler_output[idx])\n",
    "pred.shape"
   ]
  },
  {
   "cell_type": "code",
   "execution_count": 15,
   "metadata": {},
   "outputs": [],
   "source": [
    "pred_np = pred.detach().cpu().numpy()\n",
    "pred_np_binary = (pred_np > 0.5).astype(int)"
   ]
  },
  {
   "cell_type": "code",
   "execution_count": 13,
   "metadata": {},
   "outputs": [],
   "source": [
    "ohe_np = ohe.detach().cpu().numpy().astype(int)"
   ]
  },
  {
   "cell_type": "code",
   "execution_count": 16,
   "metadata": {},
   "outputs": [
    {
     "name": "stdout",
     "output_type": "stream",
     "text": [
      "0.03278688524590164\n"
     ]
    },
    {
     "name": "stderr",
     "output_type": "stream",
     "text": [
      "/local/xiaowang/miniconda3/envs/food_ingre/lib/python3.10/site-packages/sklearn/metrics/_classification.py:1509: UndefinedMetricWarning: F-score is ill-defined and being set to 0.0 in labels with no true nor predicted samples. Use `zero_division` parameter to control this behavior.\n",
      "  _warn_prf(average, modifier, f\"{metric.capitalize()} is\", len(result))\n",
      "/local/xiaowang/miniconda3/envs/food_ingre/lib/python3.10/site-packages/sklearn/metrics/_classification.py:1509: UndefinedMetricWarning: Precision is ill-defined and being set to 0.0 in labels with no predicted samples. Use `zero_division` parameter to control this behavior.\n",
      "  _warn_prf(average, modifier, f\"{metric.capitalize()} is\", len(result))\n",
      "/local/xiaowang/miniconda3/envs/food_ingre/lib/python3.10/site-packages/sklearn/metrics/_classification.py:1509: UndefinedMetricWarning: Recall is ill-defined and being set to 0.0 in labels with no true samples. Use `zero_division` parameter to control this behavior.\n",
      "  _warn_prf(average, modifier, f\"{metric.capitalize()} is\", len(result))\n"
     ]
    }
   ],
   "source": [
    "from sklearn.metrics import accuracy_score, f1_score, precision_score,recall_score\n",
    "\n",
    "acc = accuracy_score(pred_np_binary, ohe_np)\n",
    "mi_f1 = f1_score(pred_np_binary, ohe_np, average='micro')\n",
    "ma_f1 = f1_score(pred_np_binary, ohe_np, average='macro')\n",
    "mi_precision = precision_score(pred_np_binary, ohe_np, average='micro')\n",
    "ma_precision = precision_score(pred_np_binary, ohe_np, average='macro')\n",
    "mi_recall = recall_score(pred_np_binary, ohe_np, average='micro')\n",
    "ma_recall = recall_score(pred_np_binary, ohe_np, average='macro')\n",
    "\n",
    "print(mi_f1)"
   ]
  },
  {
   "cell_type": "code",
   "execution_count": null,
   "metadata": {},
   "outputs": [],
   "source": [
    "from sklearn.metrics import accuracy_score, f1_score, precision_score,recall_score\n",
    "\n",
    "def get_metrics(pred_file: dict, true_file: pd.DataFrame, accu_set: set) -> dict:\n",
    "    \"\"\"\n",
    "    Get the metrics for the accusation prediction\n",
    "    \"\"\"\n",
    "    # ohe for pred dataset\n",
    "    metrics_dict = {}\n",
    "    pred_data_ohe = []\n",
    "    for i in range(len(pred_file)):\n",
    "        sft_pred = pred_file[str(i)]\n",
    "        pred_ohe = get_pred_ohe(sft_pred, accu_set)\n",
    "        pred_data_ohe.append(pred_ohe)\n",
    "    pred_data_ohe = np.array(pred_data_ohe)\n",
    "\n",
    "    # ohe for true dataset\n",
    "    true_data_ohe = []\n",
    "    for i in range(len(true_file)):\n",
    "        true_ohe = get_true_ohe(true_file.iloc[i]['defendant_accusation'], accu_set)\n",
    "        true_data_ohe.append(true_ohe)\n",
    "    true_data_ohe = np.array(true_data_ohe)\n",
    "\n",
    "    # get the metrics \n",
    "    acc = accuracy_score(true_data_ohe, pred_data_ohe)\n",
    "    mi_f1 = f1_score(true_data_ohe, pred_data_ohe, average='micro')\n",
    "    ma_f1 = f1_score(true_data_ohe, pred_data_ohe, average='macro')\n",
    "    mi_precision = precision_score(true_data_ohe, pred_data_ohe, average='micro')\n",
    "    ma_precision = precision_score(true_data_ohe, pred_data_ohe, average='macro')\n",
    "    mi_recall = recall_score(true_data_ohe, pred_data_ohe, average='micro')\n",
    "    ma_recall = recall_score(true_data_ohe, pred_data_ohe, average='macro')\n",
    "\n",
    "    metrics_dict = {\n",
    "        'accuracy': acc, \n",
    "        'micro_f1': mi_f1, \n",
    "        'macro_f1': ma_f1, \n",
    "        'micro_precision': mi_precision, \n",
    "        'macro_precision': ma_precision, \n",
    "        'micro_recall': mi_recall, \n",
    "        'macro_recall': ma_recall\n",
    "        }\n",
    "    return metrics_dict"
   ]
  },
  {
   "cell_type": "code",
   "execution_count": null,
   "metadata": {},
   "outputs": [],
   "source": []
  }
 ],
 "metadata": {
  "kernelspec": {
   "display_name": "food_ingre",
   "language": "python",
   "name": "python3"
  },
  "language_info": {
   "codemirror_mode": {
    "name": "ipython",
    "version": 3
   },
   "file_extension": ".py",
   "mimetype": "text/x-python",
   "name": "python",
   "nbconvert_exporter": "python",
   "pygments_lexer": "ipython3",
   "version": "3.10.14"
  }
 },
 "nbformat": 4,
 "nbformat_minor": 2
}
