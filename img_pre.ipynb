{
 "cells": [
  {
   "cell_type": "code",
   "execution_count": null,
   "metadata": {},
   "outputs": [],
   "source": [
    "import cv2\n",
    "import numpy as np\n",
    "from PIL import Image"
   ]
  },
  {
   "cell_type": "code",
   "execution_count": null,
   "metadata": {},
   "outputs": [],
   "source": [
    "\n",
    "def edge_enhancement(image, save_path=None):\n",
    "    # Convert the image to grayscale\n",
    "    gray = cv2.cvtColor(image, cv2.COLOR_BGR2GRAY)\n",
    "    \n",
    "    # Save the grayscale image\n",
    "    #if save_path:\n",
    "        #cv2.imwrite(save_path + '_grayscale.jpg', gray)\n",
    "    \n",
    "    # Apply Gaussian blur to reduce noise\n",
    "    blurred = cv2.GaussianBlur(gray, (3, 3), 0)\n",
    "    \n",
    "    # Save the blurred image\n",
    "    #if save_path:\n",
    "        #cv2.imwrite(save_path + '_blurred.jpg', blurred)\n",
    "    \n",
    "    # Use Laplacian filter for edge detection\n",
    "    laplacian = cv2.Laplacian(blurred, cv2.CV_64F)\n",
    "\n",
    "    # Save the Laplacian image\n",
    "    laplacian_output = np.clip(laplacian, 0, 255).astype(np.uint8)\n",
    "    #if save_path:\n",
    "        #cv2.imwrite(save_path + '_laplacian.jpg', laplacian_output)\n",
    "    \n",
    "    # Convert Laplacian output to 3-channel image\n",
    "    laplacian_output_rgb = cv2.cvtColor(laplacian_output, cv2.COLOR_GRAY2RGB)\n",
    "    \n",
    "    # Add the Laplacian result to the original image to enhance edges\n",
    "    enhanced = np.clip(image + laplacian_output_rgb, 0, 255).astype(np.uint8)\n",
    "    \n",
    "    # Save the enhanced image\n",
    "    if save_path:\n",
    "        cv2.imwrite(save_path + '_enhanced.jpg', enhanced)\n",
    "    \n",
    "    return enhanced\n"
   ]
  },
  {
   "cell_type": "code",
   "execution_count": null,
   "metadata": {},
   "outputs": [],
   "source": [
    "\n",
    "def edge_enhancement_no_blur(image, save_path=None):\n",
    "    # Convert the image to grayscale\n",
    "    gray = cv2.cvtColor(image, cv2.COLOR_BGR2GRAY)\n",
    "    \n",
    "    # Save the grayscale image\n",
    "    if save_path:\n",
    "        cv2.imwrite(save_path + '_grayscale.jpg', gray)\n",
    "    \n",
    "    # Apply Gaussian blur to reduce noise\n",
    "    #blurred = cv2.GaussianBlur(gray, (3, 3), 0)\n",
    "    \n",
    "    # Save the blurred image\n",
    "    #if save_path:\n",
    "        #cv2.imwrite(save_path + '_blurred.jpg', blurred)\n",
    "    \n",
    "    # Use Laplacian filter for edge detection\n",
    "    #laplacian = cv2.Laplacian(blurred, cv2.CV_64F)\n",
    "    laplacian = cv2.Laplacian(gray, cv2.CV_64F)\n",
    "\n",
    "    # Save the Laplacian image\n",
    "    laplacian_output = np.clip(laplacian, 0, 255).astype(np.uint8)\n",
    "    if save_path:\n",
    "        cv2.imwrite(save_path + '_laplacian.jpg', laplacian_output)\n",
    "    \n",
    "    # Convert Laplacian output to 3-channel image\n",
    "    laplacian_output_rgb = cv2.cvtColor(laplacian_output, cv2.COLOR_GRAY2RGB)\n",
    "    \n",
    "    # Add the Laplacian result to the original image to enhance edges\n",
    "    enhanced = np.clip(image + laplacian_output_rgb, 0, 255).astype(np.uint8)\n",
    "    \n",
    "    # Save the enhanced image\n",
    "    if save_path:\n",
    "        cv2.imwrite(save_path + '_enhanced.jpg', enhanced)\n",
    "    \n",
    "    return enhanced\n"
   ]
  },
  {
   "cell_type": "code",
   "execution_count": null,
   "metadata": {},
   "outputs": [],
   "source": [
    "# Read the image\n",
    "image = cv2.imread('bigmac.jpg')\n",
    "\n",
    "# Perform edge enhancement and save the images at each step\n",
    "edge_enhancement(image, save_path='bigmac')\n"
   ]
  }
 ],
 "metadata": {
  "kernelspec": {
   "display_name": "hlcv",
   "language": "python",
   "name": "python3"
  },
  "language_info": {
   "codemirror_mode": {
    "name": "ipython",
    "version": 3
   },
   "file_extension": ".py",
   "mimetype": "text/x-python",
   "name": "python",
   "nbconvert_exporter": "python",
   "pygments_lexer": "ipython3",
   "version": "3.11.3"
  }
 },
 "nbformat": 4,
 "nbformat_minor": 2
}
