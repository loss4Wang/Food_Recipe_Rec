{
 "cells": [
  {
   "cell_type": "code",
   "execution_count": 1,
   "metadata": {},
   "outputs": [
    {
     "name": "stdout",
     "output_type": "stream",
     "text": [
      "train_df shape: (48388, 11)\n",
      "test_df shape: (6048, 11)\n",
      "val_df shape: (6049, 11)\n"
     ]
    }
   ],
   "source": [
    "import pandas as pd\n",
    "from tqdm import tqdm\n",
    "tqdm.pandas()\n",
    "\n",
    "train_file = '/local/xiaowang/food_ingredient/Dataset_440_labels/train_set.json'\n",
    "test_file = '/local/xiaowang/food_ingredient/Dataset_440_labels/test_set.json'\n",
    "val_file = '/local/xiaowang/food_ingredient/Dataset_440_labels/val_set.json'\n",
    "\n",
    "train_df = pd.read_json(train_file, orient='records', lines=True)\n",
    "test_df = pd.read_json(test_file, orient='records', lines=True)\n",
    "val_df = pd.read_json(val_file, orient='records', lines=True)\n",
    "print('train_df shape:', train_df.shape)\n",
    "print('test_df shape:', test_df.shape)\n",
    "print('val_df shape:', val_df.shape)"
   ]
  },
  {
   "cell_type": "code",
   "execution_count": 2,
   "metadata": {},
   "outputs": [
    {
     "data": {
      "text/html": [
       "<div>\n",
       "<style scoped>\n",
       "    .dataframe tbody tr th:only-of-type {\n",
       "        vertical-align: middle;\n",
       "    }\n",
       "\n",
       "    .dataframe tbody tr th {\n",
       "        vertical-align: top;\n",
       "    }\n",
       "\n",
       "    .dataframe thead th {\n",
       "        text-align: right;\n",
       "    }\n",
       "</style>\n",
       "<table border=\"1\" class=\"dataframe\">\n",
       "  <thead>\n",
       "    <tr style=\"text-align: right;\">\n",
       "      <th></th>\n",
       "      <th>id</th>\n",
       "      <th>images</th>\n",
       "      <th>image_file_name_ls</th>\n",
       "      <th>ingredients</th>\n",
       "      <th>url</th>\n",
       "      <th>partition</th>\n",
       "      <th>title</th>\n",
       "      <th>instructions</th>\n",
       "      <th>extracted_ingredients</th>\n",
       "      <th>cleaned_ingredients</th>\n",
       "      <th>generated_intro</th>\n",
       "    </tr>\n",
       "  </thead>\n",
       "  <tbody>\n",
       "    <tr>\n",
       "      <th>0</th>\n",
       "      <td>787347fc9b</td>\n",
       "      <td>[{'id': '589aa53634.jpg', 'url': 'http://img.s...</td>\n",
       "      <td>[589aa53634.jpg, 5ec5605334.jpg, 80e94b8784.jp...</td>\n",
       "      <td>[{'text': '34 cup plain flour'}, {'text': '1 1...</td>\n",
       "      <td>http://www.food.com/recipe/anzac-biscuits-with...</td>\n",
       "      <td>test</td>\n",
       "      <td>Anzac Biscuits With Macadamias (Australian)</td>\n",
       "      <td>[{'text': 'Preheat oven to 160 degrees Celsius...</td>\n",
       "      <td>[plain flour, oat, white sugar, coconut, macad...</td>\n",
       "      <td>[oat, butter, coconut, syrup, macadamia, sugar...</td>\n",
       "      <td>Title: Turkey Meatballs and Pasta in Broth\\n\\n...</td>\n",
       "    </tr>\n",
       "    <tr>\n",
       "      <th>1</th>\n",
       "      <td>d3f3833cbe</td>\n",
       "      <td>[{'id': '50bc445af6.jpg', 'url': 'http://img.s...</td>\n",
       "      <td>[50bc445af6.jpg]</td>\n",
       "      <td>[{'text': '4 tablespoons unsalted butter'}, {'...</td>\n",
       "      <td>http://www.food.com/recipe/moroccan-cauliflowe...</td>\n",
       "      <td>test</td>\n",
       "      <td>Moroccan Cauliflower Soup</td>\n",
       "      <td>[{'text': 'In a large saucepan, melt 2 Tbsp of...</td>\n",
       "      <td>[unsalt butter, oliv oil, onion, garlic clove,...</td>\n",
       "      <td>[butter, oil, onion, clove, pepper, egg, corns...</td>\n",
       "      <td>None</td>\n",
       "    </tr>\n",
       "  </tbody>\n",
       "</table>\n",
       "</div>"
      ],
      "text/plain": [
       "           id                                             images  \\\n",
       "0  787347fc9b  [{'id': '589aa53634.jpg', 'url': 'http://img.s...   \n",
       "1  d3f3833cbe  [{'id': '50bc445af6.jpg', 'url': 'http://img.s...   \n",
       "\n",
       "                                  image_file_name_ls  \\\n",
       "0  [589aa53634.jpg, 5ec5605334.jpg, 80e94b8784.jp...   \n",
       "1                                   [50bc445af6.jpg]   \n",
       "\n",
       "                                         ingredients  \\\n",
       "0  [{'text': '34 cup plain flour'}, {'text': '1 1...   \n",
       "1  [{'text': '4 tablespoons unsalted butter'}, {'...   \n",
       "\n",
       "                                                 url partition  \\\n",
       "0  http://www.food.com/recipe/anzac-biscuits-with...      test   \n",
       "1  http://www.food.com/recipe/moroccan-cauliflowe...      test   \n",
       "\n",
       "                                         title  \\\n",
       "0  Anzac Biscuits With Macadamias (Australian)   \n",
       "1                    Moroccan Cauliflower Soup   \n",
       "\n",
       "                                        instructions  \\\n",
       "0  [{'text': 'Preheat oven to 160 degrees Celsius...   \n",
       "1  [{'text': 'In a large saucepan, melt 2 Tbsp of...   \n",
       "\n",
       "                               extracted_ingredients  \\\n",
       "0  [plain flour, oat, white sugar, coconut, macad...   \n",
       "1  [unsalt butter, oliv oil, onion, garlic clove,...   \n",
       "\n",
       "                                 cleaned_ingredients  \\\n",
       "0  [oat, butter, coconut, syrup, macadamia, sugar...   \n",
       "1  [butter, oil, onion, clove, pepper, egg, corns...   \n",
       "\n",
       "                                     generated_intro  \n",
       "0  Title: Turkey Meatballs and Pasta in Broth\\n\\n...  \n",
       "1                                               None  "
      ]
     },
     "execution_count": 2,
     "metadata": {},
     "output_type": "execute_result"
    }
   ],
   "source": [
    "train_df.head(2)"
   ]
  },
  {
   "cell_type": "code",
   "execution_count": 4,
   "metadata": {},
   "outputs": [
    {
     "name": "stderr",
     "output_type": "stream",
     "text": [
      "100%|██████████| 48388/48388 [00:00<00:00, 239405.08it/s]\n"
     ]
    }
   ],
   "source": [
    "# ingredients -> extract ingredients -> cleaned_ingredients\n",
    "\n",
    "def convert_to_text(ingredients:list[dict]):\n",
    "    text = \",\".join([v for text_dict in ingredients for v in text_dict.values()])\n",
    "    return text\n",
    "\n",
    "train_df['ingredients_txt'] =  train_df['ingredients'].progress_apply(convert_to_text)\n",
    "test_df['ingredients_txt'] =  test_df['ingredients'].progress_apply(convert_to_text)\n",
    "val_df['ingredients_txt'] =  val_df['ingredients'].progress_apply(convert_to_text)"
   ]
  },
  {
   "cell_type": "code",
   "execution_count": 9,
   "metadata": {},
   "outputs": [],
   "source": [
    "train_ls = train_df['ingredients_txt'].tolist()\n",
    "test_ls = test_df['ingredients_txt'].tolist()\n",
    "val_ls = val_df['ingredients_txt'].tolist()"
   ]
  },
  {
   "cell_type": "code",
   "execution_count": 10,
   "metadata": {},
   "outputs": [
    {
     "name": "stderr",
     "output_type": "stream",
     "text": [
      "100%|██████████| 48388/48388 [49:30<00:00, 16.29it/s] \n",
      "100%|██████████| 6048/6048 [06:28<00:00, 15.57it/s]\n",
      "100%|██████████| 6049/6049 [06:18<00:00, 15.99it/s]\n"
     ]
    }
   ],
   "source": [
    "from transformers import AutoTokenizer, AutoModelForTokenClassification\n",
    "from transformers import pipeline\n",
    "\n",
    "device = \"cuda:7\"\n",
    "tokenizer = AutoTokenizer.from_pretrained(\"Dizex/InstaFoodRoBERTa-NER\")\n",
    "model = AutoModelForTokenClassification.from_pretrained(\"Dizex/InstaFoodRoBERTa-NER\").to(device)\n",
    "\n",
    "def convert_entities_to_list(text, entities: list[dict]) -> list[str]:\n",
    "        ents = []\n",
    "        for ent in entities:\n",
    "            e = {\"start\": ent[\"start\"], \"end\": ent[\"end\"], \"label\": ent[\"entity_group\"]}\n",
    "            if ents and -1 <= ent[\"start\"] - ents[-1][\"end\"] <= 1 and ents[-1][\"label\"] == e[\"label\"]:\n",
    "                ents[-1][\"end\"] = e[\"end\"]\n",
    "                continue\n",
    "            ents.append(e)\n",
    "\n",
    "        return [text[e[\"start\"]:e[\"end\"]] for e in ents]\n",
    "\n",
    "\n",
    "pipe = pipeline(\"ner\", model=model, tokenizer=tokenizer)\n",
    "\n",
    "train_extract_ls = []\n",
    "for train_example in tqdm(train_ls):\n",
    "    ner_entity_results = pipe(train_example, aggregation_strategy=\"simple\")\n",
    "    train_extract_ls.append(convert_entities_to_list(train_example, ner_entity_results))\n",
    "\n",
    "test_extract_ls = []\n",
    "for test_example in tqdm(test_ls):\n",
    "    ner_entity_results = pipe(test_example, aggregation_strategy=\"simple\")\n",
    "    test_extract_ls.append(convert_entities_to_list(test_example, ner_entity_results))\n",
    "\n",
    "val_extract_ls = []\n",
    "for val_example in tqdm(val_ls):\n",
    "    ner_entity_results = pipe(val_example, aggregation_strategy=\"simple\")\n",
    "    val_extract_ls.append(convert_entities_to_list(val_example, ner_entity_results))\n",
    "\n",
    "# save the extracted ingredients to the dataframe\n",
    "train_df['extracted_ingredients'] = train_extract_ls\n",
    "test_df['extracted_ingredients'] = test_extract_ls\n",
    "val_df['extracted_ingredients'] = val_extract_ls"
   ]
  },
  {
   "cell_type": "code",
   "execution_count": null,
   "metadata": {},
   "outputs": [],
   "source": []
  }
 ],
 "metadata": {
  "kernelspec": {
   "display_name": "food_ingre",
   "language": "python",
   "name": "python3"
  },
  "language_info": {
   "codemirror_mode": {
    "name": "ipython",
    "version": 3
   },
   "file_extension": ".py",
   "mimetype": "text/x-python",
   "name": "python",
   "nbconvert_exporter": "python",
   "pygments_lexer": "ipython3",
   "version": "3.10.14"
  }
 },
 "nbformat": 4,
 "nbformat_minor": 2
}
